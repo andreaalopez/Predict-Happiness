{
 "cells": [
  {
   "cell_type": "markdown",
   "metadata": {},
   "source": [
    "# Lab 8: Implement Your Machine Learning Project Plan"
   ]
  },
  {
   "cell_type": "markdown",
   "metadata": {},
   "source": [
    "In this lab assignment, you will implement the machine learning project plan you created in the written assignment. You will:\n",
    "\n",
    "1. Load your data set and save it to a Pandas DataFrame.\n",
    "2. Perform exploratory data analysis on your data to determine which feature engineering and data preparation techniques you will use.\n",
    "3. Prepare your data for your model and create features and a label.\n",
    "4. Fit your model to the training data and evaluate your model.\n",
    "5. Improve your model by performing model selection and/or feature selection techniques to find best model for your problem."
   ]
  },
  {
   "cell_type": "markdown",
   "metadata": {},
   "source": [
    "### Import Packages\n",
    "\n",
    "Before you get started, import a few packages."
   ]
  },
  {
   "cell_type": "code",
   "execution_count": 1,
   "metadata": {},
   "outputs": [],
   "source": [
    "import pandas as pd\n",
    "import numpy as np\n",
    "import os \n",
    "import matplotlib.pyplot as plt\n",
    "import seaborn as sns\n",
    "import scipy.stats as stats"
   ]
  },
  {
   "cell_type": "markdown",
   "metadata": {},
   "source": [
    "<b>Task:</b> In the code cell below, import additional packages that you have used in this course that you will need for this task."
   ]
  },
  {
   "cell_type": "code",
   "execution_count": 2,
   "metadata": {},
   "outputs": [],
   "source": [
    "from sklearn.tree import DecisionTreeClassifier\n",
    "from sklearn.neighbors import KNeighborsClassifier\n",
    "from sklearn.model_selection import train_test_split\n",
    "from sklearn.metrics import accuracy_score, confusion_matrix, precision_recall_curve\n",
    "from sklearn.model_selection import GridSearchCV\n",
    "from sklearn.model_selection import cross_val_score\n",
    "from sklearn.model_selection import validation_curve"
   ]
  },
  {
   "cell_type": "markdown",
   "metadata": {},
   "source": [
    "## Part 1: Load the Data Set\n",
    "\n",
    "\n",
    "You have chosen to work with one of four data sets. The data sets are located in a folder named \"data.\" The file names of the three data sets are as follows:\n",
    "\n",
    "* The \"adult\" data set that contains Census information from 1994 is located in file `adultData.csv`\n",
    "* The airbnb NYC \"listings\" data set is located in file  `airbnbListingsData.csv`\n",
    "* The World Happiness Report (WHR) data set is located in file `WHR2018Chapter2OnlineData.csv`\n",
    "* The book review data set is located in file `bookReviewsData.csv`\n",
    "\n",
    "\n",
    "\n",
    "<b>Task:</b> In the code cell below, use the same method you have been using to load your data using `pd.read_csv()` and save it to DataFrame `df`."
   ]
  },
  {
   "cell_type": "code",
   "execution_count": 3,
   "metadata": {},
   "outputs": [],
   "source": [
    "df = pd.read_csv('data/WHR2018Chapter2OnlineData.csv')"
   ]
  },
  {
   "cell_type": "markdown",
   "metadata": {},
   "source": [
    "## Part 2: Exploratory Data Analysis\n",
    "\n",
    "The next step is to inspect and analyze your data set with your machine learning problem and project plan in mind. \n",
    "\n",
    "This step will help you determine data preparation and feature engineering techniques you will need to apply to your data to build a balanced modeling data set for your problem and model. These data preparation techniques may include:\n",
    "* addressing missingness, such as replacing missing values with means\n",
    "* renaming features and labels\n",
    "* finding and replacing outliers\n",
    "* performing winsorization if needed\n",
    "* performing one-hot encoding on categorical features\n",
    "* performing vectorization for an NLP problem\n",
    "* addressing class imbalance in your data sample to promote fair AI\n",
    "\n",
    "\n",
    "Think of the different techniques you have used to inspect and analyze your data in this course. These include using Pandas to apply data filters, using the Pandas `describe()` method to get insight into key statistics for each column, using the Pandas `dtypes` property to inspect the data type of each column, and using Matplotlib and Seaborn to detect outliers and visualize relationships between features and labels. If you are working on a classification problem, use techniques you have learned to determine if there is class imbalance.\n",
    "\n",
    "<b>Task</b>: Use the techniques you have learned in this course to inspect and analyze your data. \n",
    "\n",
    "<b>Note</b>: You can add code cells if needed by going to the <b>Insert</b> menu and clicking on <b>Insert Cell Below</b> in the drop-drown menu."
   ]
  },
  {
   "cell_type": "markdown",
   "metadata": {},
   "source": [
    "### Create Labels"
   ]
  },
  {
   "cell_type": "code",
   "execution_count": 4,
   "metadata": {},
   "outputs": [
    {
     "data": {
      "text/plain": [
       "True     0.618438\n",
       "False    0.381562\n",
       "Name: LL_bool, dtype: float64"
      ]
     },
     "execution_count": 4,
     "metadata": {},
     "output_type": "execute_result"
    }
   ],
   "source": [
    "# Create binary variable to be label\n",
    "df['LL_bool'] = df['Life Ladder'].apply(lambda x: True if x > 5 else False)\n",
    "df['LL_bool'].value_counts(normalize=True, dropna=False)\n",
    "# Sufficient data for both categories, no null values"
   ]
  },
  {
   "cell_type": "markdown",
   "metadata": {},
   "source": [
    "### Clean the data"
   ]
  },
  {
   "cell_type": "code",
   "execution_count": 5,
   "metadata": {},
   "outputs": [
    {
     "data": {
      "text/plain": [
       "country                                                      object\n",
       "year                                                          int64\n",
       "Life Ladder                                                 float64\n",
       "Log GDP per capita                                          float64\n",
       "Social support                                              float64\n",
       "Healthy life expectancy at birth                            float64\n",
       "Freedom to make life choices                                float64\n",
       "Generosity                                                  float64\n",
       "Perceptions of corruption                                   float64\n",
       "Positive affect                                             float64\n",
       "Negative affect                                             float64\n",
       "Confidence in national government                           float64\n",
       "Democratic Quality                                          float64\n",
       "Delivery Quality                                            float64\n",
       "Standard deviation of ladder by country-year                float64\n",
       "Standard deviation/Mean of ladder by country-year           float64\n",
       "GINI index (World Bank estimate)                            float64\n",
       "GINI index (World Bank estimate), average 2000-15           float64\n",
       "gini of household income reported in Gallup, by wp5-year    float64\n",
       "LL_bool                                                        bool\n",
       "dtype: object"
      ]
     },
     "execution_count": 5,
     "metadata": {},
     "output_type": "execute_result"
    }
   ],
   "source": [
    "df.dtypes"
   ]
  },
  {
   "cell_type": "code",
   "execution_count": 6,
   "metadata": {},
   "outputs": [],
   "source": [
    "df.rename({\n",
    "    'Standard deviation of ladder by country-year': 'stdev',\n",
    "    'Standard deviation/Mean of ladder by country-year': 'stdev-div-mean',\n",
    "    'GINI index (World Bank estimate)': 'gini',\n",
    "    'GINI index (World Bank estimate), average 2000-15': 'gini-2000-15',\n",
    "    'gini of household income reported in Gallup, by wp5-year': 'gini-gallup',\n",
    "}, axis=1, inplace=True)"
   ]
  },
  {
   "cell_type": "markdown",
   "metadata": {},
   "source": [
    "Find and replace outliers"
   ]
  },
  {
   "cell_type": "code",
   "execution_count": 7,
   "metadata": {},
   "outputs": [
    {
     "data": {
      "text/plain": [
       "<AxesSubplot:xlabel='Log GDP per capita'>"
      ]
     },
     "execution_count": 7,
     "metadata": {},
     "output_type": "execute_result"
    },
    {
     "data": {
      "image/png": "[encoded data removed]",
      "text/plain": [
       "<Figure size 432x288 with 1 Axes>"
      ]
     },
     "metadata": {
      "needs_background": "light"
     },
     "output_type": "display_data"
    }
   ],
   "source": [
    "sns.boxplot(x=df['Log GDP per capita'])"
   ]
  },
  {
   "cell_type": "code",
   "execution_count": 35,
   "metadata": {},
   "outputs": [
    {
     "data": {
      "text/plain": [
       "<AxesSubplot:xlabel='Social support'>"
      ]
     },
     "execution_count": 35,
     "metadata": {},
     "output_type": "execute_result"
    },
    {
     "data": {
      "image/png": "[encoded data removed]",
      "text/plain": [
       "<Figure size 432x288 with 1 Axes>"
      ]
     },
     "metadata": {
      "needs_background": "light"
     },
     "output_type": "display_data"
    }
   ],
   "source": [
    "sns.boxplot(x=df['Social support'])"
   ]
  },
  {
   "cell_type": "code",
   "execution_count": 12,
   "metadata": {},
   "outputs": [
    {
     "data": {
      "text/plain": [
       "<AxesSubplot:xlabel='Healthy life expectancy at birth'>"
      ]
     },
     "execution_count": 12,
     "metadata": {},
     "output_type": "execute_result"
    },
    {
     "data": {
      "image/png": "[encoded data removed]",
      "text/plain": [
       "<Figure size 432x288 with 1 Axes>"
      ]
     },
     "metadata": {
      "needs_background": "light"
     },
     "output_type": "display_data"
    }
   ],
   "source": [
    "sns.boxplot(x=df['Healthy life expectancy at birth'])"
   ]
  },
  {
   "cell_type": "code",
   "execution_count": 13,
   "metadata": {},
   "outputs": [
    {
     "data": {
      "text/plain": [
       "<AxesSubplot:xlabel='Freedom to make life choices'>"
      ]
     },
     "execution_count": 13,
     "metadata": {},
     "output_type": "execute_result"
    },
    {
     "data": {
      "image/png": "[encoded data removed]",
      "text/plain": [
       "<Figure size 432x288 with 1 Axes>"
      ]
     },
     "metadata": {
      "needs_background": "light"
     },
     "output_type": "display_data"
    }
   ],
   "source": [
    "sns.boxplot(x=df['Freedom to make life choices'])"
   ]
  },
  {
   "cell_type": "code",
   "execution_count": 15,
   "metadata": {},
   "outputs": [
    {
     "data": {
      "text/plain": [
       "<seaborn.axisgrid.FacetGrid at 0x7fcf2c945978>"
      ]
     },
     "execution_count": 15,
     "metadata": {},
     "output_type": "execute_result"
    },
    {
     "data": {
      "image/png": "[encoded data removed]",
      "text/plain": [
       "<Figure size 360x360 with 1 Axes>"
      ]
     },
     "metadata": {
      "needs_background": "light"
     },
     "output_type": "display_data"
    }
   ],
   "source": [
    "sns.displot(x=df['Generosity'])"
   ]
  },
  {
   "cell_type": "code",
   "execution_count": 17,
   "metadata": {},
   "outputs": [
    {
     "data": {
      "text/plain": [
       "<AxesSubplot:xlabel='Perceptions of corruption'>"
      ]
     },
     "execution_count": 17,
     "metadata": {},
     "output_type": "execute_result"
    },
    {
     "data": {
      "image/png": "[encoded data removed]",
      "text/plain": [
       "<Figure size 432x288 with 1 Axes>"
      ]
     },
     "metadata": {
      "needs_background": "light"
     },
     "output_type": "display_data"
    }
   ],
   "source": [
    "sns.boxplot(x=df['Perceptions of corruption'])"
   ]
  },
  {
   "cell_type": "code",
   "execution_count": 18,
   "metadata": {},
   "outputs": [
    {
     "data": {
      "text/plain": [
       "<AxesSubplot:xlabel='Positive affect'>"
      ]
     },
     "execution_count": 18,
     "metadata": {},
     "output_type": "execute_result"
    },
    {
     "data": {
      "image/png": "[encoded data removed]",
      "text/plain": [
       "<Figure size 432x288 with 1 Axes>"
      ]
     },
     "metadata": {
      "needs_background": "light"
     },
     "output_type": "display_data"
    }
   ],
   "source": [
    "sns.boxplot(x=df['Positive affect'])"
   ]
  },
  {
   "cell_type": "code",
   "execution_count": 19,
   "metadata": {},
   "outputs": [
    {
     "data": {
      "text/plain": [
       "<AxesSubplot:xlabel='Negative affect'>"
      ]
     },
     "execution_count": 19,
     "metadata": {},
     "output_type": "execute_result"
    },
    {
     "data": {
      "image/png": "[encoded data removed]",
      "text/plain": [
       "<Figure size 432x288 with 1 Axes>"
      ]
     },
     "metadata": {
      "needs_background": "light"
     },
     "output_type": "display_data"
    }
   ],
   "source": [
    "sns.boxplot(x=df['Negative affect'])"
   ]
  },
  {
   "cell_type": "code",
   "execution_count": 20,
   "metadata": {},
   "outputs": [
    {
     "data": {
      "text/plain": [
       "<AxesSubplot:xlabel='Confidence in national government'>"
      ]
     },
     "execution_count": 20,
     "metadata": {},
     "output_type": "execute_result"
    },
    {
     "data": {
      "image/png": "[encoded data removed]",
      "text/plain": [
       "<Figure size 432x288 with 1 Axes>"
      ]
     },
     "metadata": {
      "needs_background": "light"
     },
     "output_type": "display_data"
    }
   ],
   "source": [
    "sns.boxplot(x=df['Confidence in national government'])"
   ]
  },
  {
   "cell_type": "code",
   "execution_count": 21,
   "metadata": {},
   "outputs": [
    {
     "data": {
      "text/plain": [
       "<AxesSubplot:xlabel='Democratic Quality'>"
      ]
     },
     "execution_count": 21,
     "metadata": {},
     "output_type": "execute_result"
    },
    {
     "data": {
      "image/png": "[encoded data removed]",
      "text/plain": [
       "<Figure size 432x288 with 1 Axes>"
      ]
     },
     "metadata": {
      "needs_background": "light"
     },
     "output_type": "display_data"
    }
   ],
   "source": [
    "sns.boxplot(x=df['Democratic Quality'])"
   ]
  },
  {
   "cell_type": "code",
   "execution_count": 22,
   "metadata": {},
   "outputs": [
    {
     "data": {
      "text/plain": [
       "<AxesSubplot:xlabel='Standard deviation of ladder by country-year'>"
      ]
     },
     "execution_count": 22,
     "metadata": {},
     "output_type": "execute_result"
    },
    {
     "data": {
      "image/png": "[encoded data removed]",
      "text/plain": [
       "<Figure size 432x288 with 1 Axes>"
      ]
     },
     "metadata": {
      "needs_background": "light"
     },
     "output_type": "display_data"
    }
   ],
   "source": [
    "sns.boxplot(x=df['Standard deviation of ladder by country-year'])"
   ]
  },
  {
   "cell_type": "code",
   "execution_count": 7,
   "metadata": {},
   "outputs": [],
   "source": [
    "df['Social support-win'] = stats.mstats.winsorize(df['Social support'], limits=[0.01, 0.01])"
   ]
  },
  {
   "cell_type": "code",
   "execution_count": 8,
   "metadata": {},
   "outputs": [],
   "source": [
    "df['Negative affect-win'] = stats.mstats.winsorize(df['Negative affect'], limits=[0.01, 0.01])"
   ]
  },
  {
   "cell_type": "markdown",
   "metadata": {},
   "source": [
    "Find and replace missing values"
   ]
  },
  {
   "cell_type": "code",
   "execution_count": 9,
   "metadata": {},
   "outputs": [
    {
     "data": {
      "text/plain": [
       "gini                                 0.626761\n",
       "gini-gallup                          0.228553\n",
       "gini-2000-15                         0.112676\n",
       "Delivery Quality                     0.109475\n",
       "Democratic Quality                   0.109475\n",
       "Confidence in national government    0.103073\n",
       "Perceptions of corruption            0.057618\n",
       "Generosity                           0.051216\n",
       "Freedom to make life choices         0.018566\n",
       "Log GDP per capita                   0.017286\n",
       "Positive affect                      0.011524\n",
       "Social support                       0.008323\n",
       "Negative affect                      0.007682\n",
       "Healthy life expectancy at birth     0.005762\n",
       "year                                 0.000000\n",
       "Life Ladder                          0.000000\n",
       "Negative affect-win                  0.000000\n",
       "Social support-win                   0.000000\n",
       "stdev                                0.000000\n",
       "stdev-div-mean                       0.000000\n",
       "LL_bool                              0.000000\n",
       "country                              0.000000\n",
       "dtype: float64"
      ]
     },
     "execution_count": 9,
     "metadata": {},
     "output_type": "execute_result"
    }
   ],
   "source": [
    "(df.isna().sum() / len(df)).sort_values(ascending=False)"
   ]
  },
  {
   "cell_type": "markdown",
   "metadata": {},
   "source": [
    "I will have to just drop the gini column"
   ]
  },
  {
   "cell_type": "code",
   "execution_count": 10,
   "metadata": {},
   "outputs": [],
   "source": [
    "df.drop('gini', axis=1, inplace=True)"
   ]
  },
  {
   "cell_type": "code",
   "execution_count": 11,
   "metadata": {},
   "outputs": [],
   "source": [
    "# Fill all null values\n",
    "cols = df.columns.tolist()\n",
    "cols.remove('country')\n",
    "for col in cols:\n",
    "    mean = df[col].mean()\n",
    "    df[col] = df[col].fillna(mean)"
   ]
  },
  {
   "cell_type": "markdown",
   "metadata": {},
   "source": [
    "## Part 3: Implement Your Project Plan\n",
    "\n",
    "<b>Task:</b> Use the rest of this notebook to carry out your project plan. You will:\n",
    "\n",
    "1. Prepare your data for your model and create features and a label.\n",
    "2. Fit your model to the training data and evaluate your model.\n",
    "3. Improve your model by performing model selection and/or feature selection techniques to find best model for your problem.\n",
    "\n",
    "\n",
    "Add code cells below and populate the notebook with commentary, code, analyses, results, and figures as you see fit."
   ]
  },
  {
   "cell_type": "markdown",
   "metadata": {},
   "source": [
    "Get X and y training and test sets"
   ]
  },
  {
   "cell_type": "code",
   "execution_count": 12,
   "metadata": {},
   "outputs": [],
   "source": [
    "y = df['LL_bool']\n",
    "X = df.drop(columns = ['LL_bool', 'country', 'year', 'Life Ladder', 'Social support', 'Negative affect'], axis=1)"
   ]
  },
  {
   "cell_type": "code",
   "execution_count": 13,
   "metadata": {},
   "outputs": [],
   "source": [
    "X_train, X_test, y_train, y_test = train_test_split(X, y, test_size=0.30, random_state=123)"
   ]
  },
  {
   "cell_type": "code",
   "execution_count": 14,
   "metadata": {},
   "outputs": [
    {
     "name": "stdout",
     "output_type": "stream",
     "text": [
      "16395\n",
      "7035\n"
     ]
    }
   ],
   "source": [
    "print(X_train.size)\n",
    "print(X_test.size)"
   ]
  },
  {
   "cell_type": "markdown",
   "metadata": {},
   "source": [
    "Train a Decision Tree model"
   ]
  },
  {
   "cell_type": "code",
   "execution_count": 15,
   "metadata": {},
   "outputs": [],
   "source": [
    "def train_test_DT(X_train, X_test, y_train, y_test, leaf, depth, crit='entropy'):\n",
    "    '''\n",
    "    Fit a Decision Tree classifier to the training data X_train, y_train.\n",
    "    Return the accuracy of resulting predictions on the test set.\n",
    "    Parameters:\n",
    "        leaf := The minimum number of samples required to be at a leaf node \n",
    "        depth := The maximum depth of the tree\n",
    "        crit := The function to be used to measure the quality of a split. Default: gini.\n",
    "    '''\n",
    "    \n",
    "    model = DecisionTreeClassifier(criterion=crit, max_depth=depth, min_samples_leaf=leaf)\n",
    "    model.fit(X_train, y_train)\n",
    "    class_label_predictions = model.predict(X_test)\n",
    "    acc_score = accuracy_score(y_test, class_label_predictions)\n",
    "    \n",
    "    \n",
    "    return acc_score"
   ]
  },
  {
   "cell_type": "code",
   "execution_count": 17,
   "metadata": {
    "scrolled": true
   },
   "outputs": [
    {
     "name": "stdout",
     "output_type": "stream",
     "text": [
      "Max Depth=8, Leaf=1, accuracy score: 0.9275053304904051\n",
      "Max Depth=8, Leaf=2, accuracy score: 0.9104477611940298\n",
      "Max Depth=8, Leaf=3, accuracy score: 0.9125799573560768\n",
      "Max Depth=8, Leaf=4, accuracy score: 0.929637526652452\n",
      "Max Depth=32, Leaf=1, accuracy score: 0.9381663113006397\n",
      "Max Depth=32, Leaf=2, accuracy score: 0.9211087420042644\n",
      "Max Depth=32, Leaf=3, accuracy score: 0.9147121535181236\n",
      "Max Depth=32, Leaf=4, accuracy score: 0.9253731343283582\n",
      "\n",
      "Best max depth: 32\n",
      "Best leaf: 1\n"
     ]
    }
   ],
   "source": [
    "max_depth_range = [8, 32]\n",
    "leaf_range = [1, 2, 3, 4]\n",
    "\n",
    "acc = []\n",
    "best_score = 0\n",
    "best_md = 8\n",
    "best_leaf = 1\n",
    "\n",
    "for md in max_depth_range:\n",
    "    for leaf in leaf_range:\n",
    "        score = train_test_DT(X_train, X_test, y_train, y_test, leaf, md)\n",
    "        print('Max Depth=' + str(md) + ', Leaf=' + str(leaf) + ', accuracy score: ' + str(score))\n",
    "        acc.append(float(score))\n",
    "        if score > best_score:\n",
    "            best_score = score\n",
    "            best_md = md\n",
    "            best_leaf = leaf\n",
    "print(\"\")\n",
    "print(\"Best max depth: \" + str(best_md))\n",
    "print(\"Best leaf: \" + str(best_leaf))"
   ]
  },
  {
   "cell_type": "markdown",
   "metadata": {},
   "source": [
    "Find the most important features"
   ]
  },
  {
   "cell_type": "code",
   "execution_count": 18,
   "metadata": {},
   "outputs": [
    {
     "data": {
      "text/plain": [
       "DecisionTreeClassifier(ccp_alpha=0.0, class_weight=None, criterion='entropy',\n",
       "                       max_depth=32, max_features=None, max_leaf_nodes=None,\n",
       "                       min_impurity_decrease=0.0, min_impurity_split=None,\n",
       "                       min_samples_leaf=1, min_samples_split=2,\n",
       "                       min_weight_fraction_leaf=0.0, presort='deprecated',\n",
       "                       random_state=None, splitter='best')"
      ]
     },
     "execution_count": 18,
     "metadata": {},
     "output_type": "execute_result"
    }
   ],
   "source": [
    "model_dt = DecisionTreeClassifier(criterion='entropy', max_depth=best_md, min_samples_leaf=best_leaf)\n",
    "model_dt.fit(X_train, y_train)"
   ]
  },
  {
   "cell_type": "code",
   "execution_count": 20,
   "metadata": {},
   "outputs": [
    {
     "data": {
      "text/plain": [
       "['Healthy life expectancy at birth',\n",
       " 'stdev-div-mean',\n",
       " 'stdev',\n",
       " 'Log GDP per capita',\n",
       " 'Positive affect',\n",
       " 'Social support-win',\n",
       " 'Democratic Quality',\n",
       " 'gini-2000-15',\n",
       " 'Delivery Quality',\n",
       " 'Confidence in national government',\n",
       " 'Negative affect-win',\n",
       " 'gini-gallup',\n",
       " 'Generosity',\n",
       " 'Perceptions of corruption',\n",
       " 'Freedom to make life choices']"
      ]
     },
     "execution_count": 20,
     "metadata": {},
     "output_type": "execute_result"
    }
   ],
   "source": [
    "fi = model_dt.feature_importances_\n",
    "names_sorted = [x for _,x in sorted(zip(fi, X_train.columns.values), reverse = True)]\n",
    "names_sorted"
   ]
  },
  {
   "cell_type": "code",
   "execution_count": 21,
   "metadata": {},
   "outputs": [
    {
     "data": {
      "text/plain": [
       "Text(0, 0.5, 'Normalized importance')"
      ]
     },
     "execution_count": 21,
     "metadata": {},
     "output_type": "execute_result"
    },
    {
     "data": {
      "image/png": "[encoded data removed]",
      "text/plain": [
       "<Figure size 432x288 with 1 Axes>"
      ]
     },
     "metadata": {
      "needs_background": "light"
     },
     "output_type": "display_data"
    }
   ],
   "source": [
    "fig, ax = plt.subplots()\n",
    "\n",
    "ax.bar(np.arange(10), sorted(fi, reverse=True)[:10], width = 0.35)\n",
    "ax.set_xticks(np.arange(10))\n",
    "ax.set_xticklabels(names_sorted[:10], rotation = 90)\n",
    "plt.title('Feature importance from DT')\n",
    "ax.set_ylabel('Normalized importance')"
   ]
  },
  {
   "cell_type": "markdown",
   "metadata": {},
   "source": [
    "Train a KNN model"
   ]
  },
  {
   "cell_type": "code",
   "execution_count": 22,
   "metadata": {},
   "outputs": [],
   "source": [
    "def train_test_knn(X_train, X_test, y_train, y_test, k):\n",
    "    '''\n",
    "    Fit a k Nearest Neighbors classifier to the training data X_train, y_train.\n",
    "    Return the accuracy of resulting predictions on the test data.\n",
    "    '''\n",
    "    \n",
    "    # 1. Create the  KNeighborsClassifier model object below and assign to variable 'model'\n",
    "    model = KNeighborsClassifier(n_neighbors=k)\n",
    "\n",
    "    # 2. Fit the model to the training data below\n",
    "    model.fit(X_train, y_train)\n",
    "    \n",
    "    # 3. Make predictions on the test data below and assign the result to the variable 'class_label_predictions'\n",
    "    class_label_predictions = model.predict(X_test) \n",
    "\n",
    "    # 4. Compute the accuracy here and save the result to the variable 'acc_score'\n",
    "    acc_score = accuracy_score(y_test, class_label_predictions)\n",
    "    \n",
    "    \n",
    "    return acc_score"
   ]
  },
  {
   "cell_type": "code",
   "execution_count": 23,
   "metadata": {},
   "outputs": [
    {
     "name": "stdout",
     "output_type": "stream",
     "text": [
      "k=1, accuracy score: 0.8699360341151386\n",
      "k=2, accuracy score: 0.8614072494669509\n",
      "k=3, accuracy score: 0.8805970149253731\n",
      "k=4, accuracy score: 0.8678038379530917\n",
      "k=5, accuracy score: 0.8763326226012793\n",
      "k=6, accuracy score: 0.8635394456289979\n",
      "k=7, accuracy score: 0.8571428571428571\n",
      "k=8, accuracy score: 0.8592750533049041\n",
      "k=9, accuracy score: 0.8635394456289979\n",
      "k=10, accuracy score: 0.8656716417910447\n",
      "k=11, accuracy score: 0.8571428571428571\n",
      "k=12, accuracy score: 0.8592750533049041\n",
      "k=13, accuracy score: 0.8528784648187633\n",
      "k=14, accuracy score: 0.8507462686567164\n",
      "k=15, accuracy score: 0.8443496801705757\n",
      "k=16, accuracy score: 0.8464818763326226\n",
      "k=17, accuracy score: 0.8464818763326226\n",
      "k=18, accuracy score: 0.8400852878464818\n",
      "k=19, accuracy score: 0.8443496801705757\n",
      "k=20, accuracy score: 0.8422174840085288\n",
      "k=21, accuracy score: 0.8422174840085288\n",
      "k=22, accuracy score: 0.8422174840085288\n",
      "k=23, accuracy score: 0.8336886993603412\n",
      "k=24, accuracy score: 0.8336886993603412\n",
      "k=25, accuracy score: 0.8294243070362474\n",
      "k=26, accuracy score: 0.8251599147121536\n",
      "k=27, accuracy score: 0.8315565031982942\n",
      "k=28, accuracy score: 0.8336886993603412\n",
      "k=29, accuracy score: 0.835820895522388\n",
      "k=30, accuracy score: 0.8336886993603412\n",
      "k=31, accuracy score: 0.8294243070362474\n",
      "k=32, accuracy score: 0.8315565031982942\n",
      "k=33, accuracy score: 0.8230277185501066\n",
      "k=34, accuracy score: 0.8230277185501066\n",
      "k=35, accuracy score: 0.8294243070362474\n",
      "k=36, accuracy score: 0.8251599147121536\n",
      "k=37, accuracy score: 0.8251599147121536\n",
      "k=38, accuracy score: 0.8272921108742004\n",
      "k=39, accuracy score: 0.8336886993603412\n",
      "k=40, accuracy score: 0.8315565031982942\n",
      "\n",
      "Best k: 3\n"
     ]
    }
   ],
   "source": [
    "k_values = range(1,41)\n",
    "\n",
    "acc = [] \n",
    "best_score = 0\n",
    "best_k = 1\n",
    "\n",
    "for k in k_values:\n",
    "    score = train_test_knn(X_train, X_test, y_train, y_test, k)\n",
    "    print('k=' + str(k) + ', accuracy score: ' + str(score))\n",
    "    acc.append(float(score))\n",
    "    if score > best_score:\n",
    "        best_score = score\n",
    "        best_k = k\n",
    "\n",
    "print(\"\")\n",
    "print(\"Best k: \" + str(best_k))"
   ]
  },
  {
   "cell_type": "markdown",
   "metadata": {},
   "source": [
    "Try with only the best features"
   ]
  },
  {
   "cell_type": "code",
   "execution_count": 24,
   "metadata": {},
   "outputs": [
    {
     "name": "stdout",
     "output_type": "stream",
     "text": [
      "k=1, accuracy score: 0.8614072494669509\n",
      "k=2, accuracy score: 0.8507462686567164\n",
      "k=3, accuracy score: 0.8805970149253731\n",
      "k=4, accuracy score: 0.8592750533049041\n",
      "k=5, accuracy score: 0.8656716417910447\n",
      "k=6, accuracy score: 0.8614072494669509\n",
      "k=7, accuracy score: 0.8550106609808102\n",
      "k=8, accuracy score: 0.8550106609808102\n",
      "k=9, accuracy score: 0.8571428571428571\n",
      "k=10, accuracy score: 0.8635394456289979\n",
      "k=11, accuracy score: 0.8486140724946695\n",
      "k=12, accuracy score: 0.8528784648187633\n",
      "k=13, accuracy score: 0.8486140724946695\n",
      "k=14, accuracy score: 0.8528784648187633\n",
      "k=15, accuracy score: 0.8486140724946695\n",
      "k=16, accuracy score: 0.8422174840085288\n",
      "k=17, accuracy score: 0.8443496801705757\n",
      "k=18, accuracy score: 0.8422174840085288\n",
      "k=19, accuracy score: 0.835820895522388\n",
      "k=20, accuracy score: 0.835820895522388\n",
      "k=21, accuracy score: 0.837953091684435\n",
      "k=22, accuracy score: 0.837953091684435\n",
      "k=23, accuracy score: 0.8272921108742004\n",
      "k=24, accuracy score: 0.835820895522388\n",
      "k=25, accuracy score: 0.8315565031982942\n",
      "k=26, accuracy score: 0.8294243070362474\n",
      "k=27, accuracy score: 0.8294243070362474\n",
      "k=28, accuracy score: 0.8315565031982942\n",
      "k=29, accuracy score: 0.8294243070362474\n",
      "k=30, accuracy score: 0.835820895522388\n",
      "k=31, accuracy score: 0.8294243070362474\n",
      "k=32, accuracy score: 0.8315565031982942\n",
      "k=33, accuracy score: 0.8230277185501066\n",
      "k=34, accuracy score: 0.8251599147121536\n",
      "k=35, accuracy score: 0.8272921108742004\n",
      "k=36, accuracy score: 0.8251599147121536\n",
      "k=37, accuracy score: 0.8208955223880597\n",
      "k=38, accuracy score: 0.8230277185501066\n",
      "k=39, accuracy score: 0.8251599147121536\n",
      "k=40, accuracy score: 0.8208955223880597\n",
      "\n",
      "Best k: 3\n"
     ]
    }
   ],
   "source": [
    "best_features = names_sorted[:10]\n",
    "\n",
    "k_values = range(1,41)\n",
    "\n",
    "acc = [] \n",
    "best_score = 0\n",
    "best_k = 1\n",
    "\n",
    "for k in k_values:\n",
    "    score = train_test_knn(X_train[best_features], X_test[best_features], y_train, y_test, k)\n",
    "    print('k=' + str(k) + ', accuracy score: ' + str(score))\n",
    "    acc.append(float(score))\n",
    "    if score > best_score:\n",
    "        best_score = score\n",
    "        best_k = k\n",
    "\n",
    "print(\"\")\n",
    "print(\"Best k: \" + str(best_k))"
   ]
  },
  {
   "cell_type": "markdown",
   "metadata": {},
   "source": [
    "The DT model is more accurate. Perform model selection to pick the best DT model."
   ]
  },
  {
   "cell_type": "code",
   "execution_count": 27,
   "metadata": {},
   "outputs": [
    {
     "data": {
      "text/plain": [
       "[4, 8, 16, 32]"
      ]
     },
     "execution_count": 27,
     "metadata": {},
     "output_type": "execute_result"
    }
   ],
   "source": [
    "hyperparams = [2**n for n in range(2,6)]\n",
    "hyperparams"
   ]
  },
  {
   "cell_type": "code",
   "execution_count": 30,
   "metadata": {},
   "outputs": [
    {
     "name": "stdout",
     "output_type": "stream",
     "text": [
      "Running k-fold Cross-Validation...\n",
      "Done\n",
      "\n",
      "Accuracy score for max_depth 4: 0.8984290561769512\n",
      "Accuracy score for max_depth 8: 0.9093879602865401\n",
      "Accuracy score for max_depth 16: 0.9075656654518035\n",
      "Accuracy score for max_depth 32: 0.9039126974152737\n"
     ]
    }
   ],
   "source": [
    "print('Running k-fold Cross-Validation...')\n",
    "\n",
    "accuracy_scores = []\n",
    "\n",
    "\n",
    "for md in hyperparams:\n",
    "    \n",
    "    model = DecisionTreeClassifier(max_depth=md, min_samples_leaf=1)\n",
    "    # Perform k-fold cross-validation\n",
    "    acc_score = cross_val_score(model, X_train, y_train, cv=5)\n",
    "    acc_mean = acc_score.mean()\n",
    "    accuracy_scores.append(acc_mean)\n",
    "    \n",
    "    \n",
    "print('Done\\n')\n",
    "\n",
    "for s in range(len(accuracy_scores)):\n",
    "    print('Accuracy score for max_depth {0}: {1}'.format(hyperparams[s], accuracy_scores[s]))"
   ]
  },
  {
   "cell_type": "code",
   "execution_count": 31,
   "metadata": {},
   "outputs": [
    {
     "name": "stdout",
     "output_type": "stream",
     "text": [
      "0.906183368869936\n"
     ]
    }
   ],
   "source": [
    "model = DecisionTreeClassifier(max_depth = 8, min_samples_leaf = 1)\n",
    "model.fit(X_train, y_train)\n",
    "class_label_predictions = model.predict(X_test)\n",
    "acc_score = accuracy_score(y_test, class_label_predictions)\n",
    "\n",
    "print(acc_score)"
   ]
  },
  {
   "cell_type": "code",
   "execution_count": 32,
   "metadata": {},
   "outputs": [
    {
     "name": "stdout",
     "output_type": "stream",
     "text": [
      "Running Cross-Validation...\n",
      "Done\n",
      "Accuracies for the five training/test iterations on the validation sets:\n",
      "[0.91780822 0.93150685 0.93607306 0.86697248 0.92201835]\n"
     ]
    }
   ],
   "source": [
    "# Perform 5-fold cross-validation on the training data\n",
    "print('Running Cross-Validation...')\n",
    "\n",
    "accuracy_scores = cross_val_score(model, X_train, y_train, cv=5)\n",
    "\n",
    "print('Done')\n",
    "\n",
    "print('Accuracies for the five training/test iterations on the validation sets:')\n",
    "print(accuracy_scores)"
   ]
  },
  {
   "cell_type": "code",
   "execution_count": 33,
   "metadata": {},
   "outputs": [
    {
     "name": "stdout",
     "output_type": "stream",
     "text": [
      "Running Validation Curve Implementation...\n",
      "Done\n",
      "\n",
      "[[0.88584475 0.91780822 0.9086758  0.87614679 0.90366972]\n",
      " [0.90410959 0.91780822 0.93607306 0.88073394 0.91284404]\n",
      " [0.89041096 0.91324201 0.92694064 0.87155963 0.91284404]\n",
      " [0.91324201 0.93150685 0.91324201 0.88073394 0.92201835]]\n"
     ]
    }
   ],
   "source": [
    "print('Running Validation Curve Implementation...')\n",
    "\n",
    "model = DecisionTreeClassifier()\n",
    "\n",
    "hyperparams = [2**n for n in range(2,6)]\n",
    "\n",
    "training_scores, validation_scores = validation_curve(model, X_train, y_train,\n",
    "                                       param_name = \"max_depth\",\n",
    "                                       param_range = hyperparams,\n",
    "                                        cv = 5)\n",
    "\n",
    "print('Done\\n')\n",
    "\n",
    "print(validation_scores)"
   ]
  },
  {
   "cell_type": "code",
   "execution_count": 34,
   "metadata": {},
   "outputs": [
    {
     "name": "stdout",
     "output_type": "stream",
     "text": [
      "Results of cross-validation for max_depth of 4: 0.8984290561769512\n",
      "Results of cross-validation for max_depth of 8: 0.910313769846257\n",
      "Results of cross-validation for max_depth of 16: 0.9029994554061413\n",
      "Results of cross-validation for max_depth of 32: 0.912148632231578\n"
     ]
    }
   ],
   "source": [
    "mean_validation_scores = np.mean(validation_scores, axis = 1)\n",
    "for h in range(0, len(hyperparams)):\n",
    "    print('Results of cross-validation for max_depth of {0}: {1}'.format(hyperparams[h], mean_validation_scores[h]))"
   ]
  },
  {
   "cell_type": "code",
   "execution_count": 35,
   "metadata": {},
   "outputs": [
    {
     "data": {
      "image/png": "[encoded data removed]",
      "text/plain": [
       "<Figure size 432x288 with 1 Axes>"
      ]
     },
     "metadata": {
      "needs_background": "light"
     },
     "output_type": "display_data"
    }
   ],
   "source": [
    "sns.lineplot(x=hyperparams, y=mean_validation_scores, label = \"Cross-validation scores\", color = 'g')\n",
    "\n",
    "plt.title(\"Validation curve for the DT classifier model\")\n",
    "plt.xlabel(\"max_depth\")\n",
    "plt.ylabel(\"Accuracy\")\n",
    "plt.tight_layout()\n",
    "plt.legend(loc = 'best')\n",
    "\n",
    "plt.show()"
   ]
  },
  {
   "cell_type": "code",
   "execution_count": 39,
   "metadata": {},
   "outputs": [
    {
     "data": {
      "text/plain": [
       "{'max_depth': [4, 8, 16, 32], 'min_samples_leaf': [1, 4, 25, 50, 100]}"
      ]
     },
     "execution_count": 39,
     "metadata": {},
     "output_type": "execute_result"
    }
   ],
   "source": [
    "hyperparams_depth = [2**n for n in range(2,6)]\n",
    "\n",
    "# Do the same for leaf\n",
    "hyperparams_leaf = [1,4]\n",
    "hyperparams_leaf.extend([25*2**n for n in range(0,3)])\n",
    "\n",
    "# Create parameter grid.\n",
    "param_grid={'max_depth':hyperparams_depth, 'min_samples_leaf':hyperparams_leaf}\n",
    "param_grid"
   ]
  },
  {
   "cell_type": "code",
   "execution_count": 40,
   "metadata": {},
   "outputs": [
    {
     "name": "stdout",
     "output_type": "stream",
     "text": [
      "Running Grid Search...\n",
      "Done\n"
     ]
    }
   ],
   "source": [
    "print('Running Grid Search...')\n",
    "\n",
    "model = DecisionTreeClassifier()\n",
    "grid = GridSearchCV(model, param_grid, cv=5)\n",
    "grid_search = grid.fit(X_train, y_train)\n",
    "\n",
    "print('Done')"
   ]
  },
  {
   "cell_type": "code",
   "execution_count": 48,
   "metadata": {},
   "outputs": [
    {
     "name": "stdout",
     "output_type": "stream",
     "text": [
      "Optimal hyperparameters: {'max_depth': 8, 'min_samples_leaf': 1}\n",
      "Accuracy score: 0.9139583595157303\n"
     ]
    }
   ],
   "source": [
    "# best-performing hyperparameter configuration\n",
    "print('Optimal hyperparameters: {0}'.format(grid_search.best_params_))\n",
    "\n",
    "# best accuracy score resulting from this configuration\n",
    "print('Accuracy score: {0}'.format(grid_search.best_score_))"
   ]
  },
  {
   "cell_type": "code",
   "execution_count": 49,
   "metadata": {},
   "outputs": [
    {
     "name": "stdout",
     "output_type": "stream",
     "text": [
      "0.8955223880597015\n"
     ]
    }
   ],
   "source": [
    "model = DecisionTreeClassifier(max_depth = 8, min_samples_leaf = 1)\n",
    "model.fit(X_train, y_train)\n",
    "class_label_predictions = model.predict(X_test)\n",
    "acc_score = accuracy_score(y_test, class_label_predictions)\n",
    "\n",
    "print(acc_score)"
   ]
  },
  {
   "cell_type": "code",
   "execution_count": 50,
   "metadata": {},
   "outputs": [
    {
     "data": {
      "text/plain": [
       "['Healthy life expectancy at birth',\n",
       " 'stdev-div-mean',\n",
       " 'stdev',\n",
       " 'Log GDP per capita',\n",
       " 'Negative affect-win',\n",
       " 'gini-gallup',\n",
       " 'gini-2000-15',\n",
       " 'Perceptions of corruption',\n",
       " 'Democratic Quality',\n",
       " 'Confidence in national government',\n",
       " 'Positive affect',\n",
       " 'Social support-win',\n",
       " 'Freedom to make life choices',\n",
       " 'Delivery Quality',\n",
       " 'Generosity']"
      ]
     },
     "execution_count": 50,
     "metadata": {},
     "output_type": "execute_result"
    }
   ],
   "source": [
    "fi = model.feature_importances_\n",
    "names_sorted = [x for _,x in sorted(zip(fi, X_train.columns.values), reverse = True)]\n",
    "names_sorted"
   ]
  },
  {
   "cell_type": "code",
   "execution_count": 60,
   "metadata": {},
   "outputs": [
    {
     "data": {
      "text/plain": [
       "Text(0, 0.5, 'Normalized importance')"
      ]
     },
     "execution_count": 60,
     "metadata": {},
     "output_type": "execute_result"
    },
    {
     "data": {
      "image/png": "[encoded data removed]",
      "text/plain": [
       "<Figure size 432x288 with 1 Axes>"
      ]
     },
     "metadata": {
      "needs_background": "light"
     },
     "output_type": "display_data"
    }
   ],
   "source": [
    "fig, ax = plt.subplots()\n",
    "\n",
    "ax.bar(np.arange(10), sorted(fi, reverse=True)[:10], width = 0.35)\n",
    "ax.set_xticks(np.arange(10))\n",
    "ax.set_xticklabels(names_sorted[:10], rotation = 90)\n",
    "plt.title('Feature importance from DT')\n",
    "ax.set_ylabel('Normalized importance')"
   ]
  },
  {
   "cell_type": "code",
   "execution_count": 45,
   "metadata": {},
   "outputs": [],
   "source": [
    "probs = model.predict_proba(X_test)\n",
    "proba_predictions = []\n",
    "for p in probs:\n",
    "    proba_predictions.append(p[1])\n",
    "\n",
    "class_label_predictions = model.predict(X_test)"
   ]
  },
  {
   "cell_type": "code",
   "execution_count": 46,
   "metadata": {},
   "outputs": [
    {
     "data": {
      "text/plain": [
       "array([[249,  23],\n",
       "       [ 39, 158]])"
      ]
     },
     "execution_count": 46,
     "metadata": {},
     "output_type": "execute_result"
    }
   ],
   "source": [
    "c_m = confusion_matrix(y_test, class_label_predictions, labels=[True, False])\n",
    "c_m"
   ]
  },
  {
   "cell_type": "code",
   "execution_count": 47,
   "metadata": {},
   "outputs": [
    {
     "data": {
      "image/png": "[encoded data removed]",
      "text/plain": [
       "<Figure size 432x288 with 1 Axes>"
      ]
     },
     "metadata": {
      "needs_background": "light"
     },
     "output_type": "display_data"
    }
   ],
   "source": [
    "precision, recall, thresholds = precision_recall_curve(y_test, proba_predictions)\n",
    "sns.lineplot(x=recall, y=precision)\n",
    "\n",
    "plt.title(\"Precision-Recall Curve for Default and Best Models\")\n",
    "plt.xlabel(\"recall\")\n",
    "plt.ylabel(\"precision\")\n",
    "plt.tight_layout()\n",
    "\n",
    "plt.show()"
   ]
  }
 ],
 "metadata": {
  "kernelspec": {
   "display_name": "Python 3",
   "language": "python",
   "name": "python3"
  },
  "language_info": {
   "codemirror_mode": {
    "name": "ipython",
    "version": 3
   },
   "file_extension": ".py",
   "mimetype": "text/x-python",
   "name": "python",
   "nbconvert_exporter": "python",
   "pygments_lexer": "ipython3",
   "version": "3.6.9"
  },
  "toc": {
   "base_numbering": 1,
   "nav_menu": {},
   "number_sections": false,
   "sideBar": true,
   "skip_h1_title": false,
   "title_cell": "Table of Contents",
   "title_sidebar": "Contents",
   "toc_cell": false,
   "toc_position": {},
   "toc_section_display": true,
   "toc_window_display": false
  },
  "varInspector": {
   "cols": {
    "lenName": 16,
    "lenType": 16,
    "lenVar": 40
   },
   "kernels_config": {
    "python": {
     "delete_cmd_postfix": "",
     "delete_cmd_prefix": "del ",
     "library": "var_list.py",
     "varRefreshCmd": "print(var_dic_list())"
    },
    "r": {
     "delete_cmd_postfix": ") ",
     "delete_cmd_prefix": "rm(",
     "library": "var_list.r",
     "varRefreshCmd": "cat(var_dic_list()) "
    }
   },
   "types_to_exclude": [
    "module",
    "function",
    "builtin_function_or_method",
    "instance",
    "_Feature"
   ],
   "window_display": false
  }
 },
 "nbformat": 4,
 "nbformat_minor": 2
}
